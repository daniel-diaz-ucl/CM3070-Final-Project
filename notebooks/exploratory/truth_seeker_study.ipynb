{
 "cells": [
  {
   "cell_type": "markdown",
   "id": "307a7103",
   "metadata": {},
   "source": [
    "## Final Project for CM3070\n",
    "\n",
    "This is an exploratory notebook into the dataset `TruthSeeker2023`. Our first step involves importing the necessary libraries to facilitate our analysis and insights extraction process."
   ]
  },
  {
   "cell_type": "code",
   "execution_count": 1,
   "metadata": {},
   "outputs": [],
   "source": [
    "%matplotlib inline\n",
    "import pandas as pd\n",
    "import matplotlib.pyplot as plt\n",
    "import textstat\n",
    "from textblob import TextBlob\n",
    "import statsmodels.formula.api as smf"
   ]
  },
  {
   "cell_type": "markdown",
   "id": "ddda6b22",
   "metadata": {},
   "source": [
    "Load the dataset into a pandas Dataframe and inspect it"
   ]
  },
  {
   "cell_type": "code",
   "execution_count": 2,
   "id": "7521bfb8",
   "metadata": {},
   "outputs": [
    {
     "data": {
      "text/html": [
       "<div>\n",
       "<style scoped>\n",
       "    .dataframe tbody tr th:only-of-type {\n",
       "        vertical-align: middle;\n",
       "    }\n",
       "\n",
       "    .dataframe tbody tr th {\n",
       "        vertical-align: top;\n",
       "    }\n",
       "\n",
       "    .dataframe thead th {\n",
       "        text-align: right;\n",
       "    }\n",
       "</style>\n",
       "<table border=\"1\" class=\"dataframe\">\n",
       "  <thead>\n",
       "    <tr style=\"text-align: right;\">\n",
       "      <th></th>\n",
       "      <th>Unnamed: 0</th>\n",
       "      <th>author</th>\n",
       "      <th>statement</th>\n",
       "      <th>target</th>\n",
       "      <th>BinaryNumTarget</th>\n",
       "      <th>manual_keywords</th>\n",
       "      <th>tweet</th>\n",
       "      <th>5_label_majority_answer</th>\n",
       "      <th>3_label_majority_answer</th>\n",
       "    </tr>\n",
       "  </thead>\n",
       "  <tbody>\n",
       "    <tr>\n",
       "      <th>0</th>\n",
       "      <td>0</td>\n",
       "      <td>D.L. Davis</td>\n",
       "      <td>End of eviction moratorium means millions of A...</td>\n",
       "      <td>True</td>\n",
       "      <td>1.0</td>\n",
       "      <td>Americans, eviction moratorium</td>\n",
       "      <td>@POTUS Biden Blunders - 6 Month Update\\n\\nInfl...</td>\n",
       "      <td>Mostly Agree</td>\n",
       "      <td>Agree</td>\n",
       "    </tr>\n",
       "    <tr>\n",
       "      <th>1</th>\n",
       "      <td>1</td>\n",
       "      <td>D.L. Davis</td>\n",
       "      <td>End of eviction moratorium means millions of A...</td>\n",
       "      <td>True</td>\n",
       "      <td>1.0</td>\n",
       "      <td>Americans, eviction moratorium</td>\n",
       "      <td>@S0SickRick @Stairmaster_ @6d6f636869 Not as m...</td>\n",
       "      <td>NO MAJORITY</td>\n",
       "      <td>Agree</td>\n",
       "    </tr>\n",
       "    <tr>\n",
       "      <th>2</th>\n",
       "      <td>2</td>\n",
       "      <td>D.L. Davis</td>\n",
       "      <td>End of eviction moratorium means millions of A...</td>\n",
       "      <td>True</td>\n",
       "      <td>1.0</td>\n",
       "      <td>Americans, eviction moratorium</td>\n",
       "      <td>THE SUPREME COURT is siding with super rich pr...</td>\n",
       "      <td>Agree</td>\n",
       "      <td>Agree</td>\n",
       "    </tr>\n",
       "    <tr>\n",
       "      <th>3</th>\n",
       "      <td>3</td>\n",
       "      <td>D.L. Davis</td>\n",
       "      <td>End of eviction moratorium means millions of A...</td>\n",
       "      <td>True</td>\n",
       "      <td>1.0</td>\n",
       "      <td>Americans, eviction moratorium</td>\n",
       "      <td>@POTUS Biden Blunders\\n\\nBroken campaign promi...</td>\n",
       "      <td>Mostly Agree</td>\n",
       "      <td>Agree</td>\n",
       "    </tr>\n",
       "    <tr>\n",
       "      <th>4</th>\n",
       "      <td>4</td>\n",
       "      <td>D.L. Davis</td>\n",
       "      <td>End of eviction moratorium means millions of A...</td>\n",
       "      <td>True</td>\n",
       "      <td>1.0</td>\n",
       "      <td>Americans, eviction moratorium</td>\n",
       "      <td>@OhComfy I agree. The confluence of events rig...</td>\n",
       "      <td>Agree</td>\n",
       "      <td>Agree</td>\n",
       "    </tr>\n",
       "  </tbody>\n",
       "</table>\n",
       "</div>"
      ],
      "text/plain": [
       "   Unnamed: 0      author                                          statement  \\\n",
       "0           0  D.L. Davis  End of eviction moratorium means millions of A...   \n",
       "1           1  D.L. Davis  End of eviction moratorium means millions of A...   \n",
       "2           2  D.L. Davis  End of eviction moratorium means millions of A...   \n",
       "3           3  D.L. Davis  End of eviction moratorium means millions of A...   \n",
       "4           4  D.L. Davis  End of eviction moratorium means millions of A...   \n",
       "\n",
       "   target  BinaryNumTarget                 manual_keywords  \\\n",
       "0    True              1.0  Americans, eviction moratorium   \n",
       "1    True              1.0  Americans, eviction moratorium   \n",
       "2    True              1.0  Americans, eviction moratorium   \n",
       "3    True              1.0  Americans, eviction moratorium   \n",
       "4    True              1.0  Americans, eviction moratorium   \n",
       "\n",
       "                                               tweet 5_label_majority_answer  \\\n",
       "0  @POTUS Biden Blunders - 6 Month Update\\n\\nInfl...            Mostly Agree   \n",
       "1  @S0SickRick @Stairmaster_ @6d6f636869 Not as m...             NO MAJORITY   \n",
       "2  THE SUPREME COURT is siding with super rich pr...                   Agree   \n",
       "3  @POTUS Biden Blunders\\n\\nBroken campaign promi...            Mostly Agree   \n",
       "4  @OhComfy I agree. The confluence of events rig...                   Agree   \n",
       "\n",
       "  3_label_majority_answer  \n",
       "0                   Agree  \n",
       "1                   Agree  \n",
       "2                   Agree  \n",
       "3                   Agree  \n",
       "4                   Agree  "
      ]
     },
     "execution_count": 2,
     "metadata": {},
     "output_type": "execute_result"
    }
   ],
   "source": [
    "# Set the path to the dataset\n",
    "dataset_path = '../../datasets/TruthSeeker2023/Truth_Seeker_Model_Dataset.csv'\n",
    "\n",
    "# Load the dataset into a pandas dataframe, ensuring the header is inferred from the first row\n",
    "df = pd.read_csv(dataset_path, header=0)\n",
    "\n",
    "# Display the first five rows of the dataframe to inspect it\n",
    "df.head(5)"
   ]
  },
  {
   "cell_type": "markdown",
   "id": "f98330dd",
   "metadata": {},
   "source": [
    "Counting columns, target values"
   ]
  },
  {
   "cell_type": "code",
   "execution_count": 3,
   "id": "03b397b4",
   "metadata": {},
   "outputs": [
    {
     "name": "stdout",
     "output_type": "stream",
     "text": [
      "Number of columns in the dataframe: 9\n",
      "Count of different values in 'target' column:\n",
      "target\n",
      "True     68930\n",
      "False    65268\n",
      "Name: count, dtype: int64\n",
      "Count of different values in 'BinaryNumTarget' column:\n",
      "BinaryNumTarget\n",
      "1.0    68930\n",
      "0.0    65268\n",
      "Name: count, dtype: int64\n",
      "bool\n"
     ]
    }
   ],
   "source": [
    "# Display the number of columns in the dataframe\n",
    "print(f\"Number of columns in the dataframe: {len(df.columns)}\")\n",
    "\n",
    "# Show a count of different values available in the 'target' column\n",
    "print(\"Count of different values in 'target' column:\")\n",
    "print(df['target'].value_counts())\n",
    "\n",
    "# Show a count of different values available in the next column\n",
    "print(f\"Count of different values in 'BinaryNumTarget' column:\")\n",
    "print(df['BinaryNumTarget'].value_counts())\n",
    "\n",
    "print(df['target'].dtype)\n",
    "\n"
   ]
  },
  {
   "cell_type": "markdown",
   "id": "6d758fa1",
   "metadata": {},
   "source": [
    "It seems to be a balanced dataset! That is promising."
   ]
  },
  {
   "cell_type": "markdown",
   "id": "4c52dd01",
   "metadata": {},
   "source": [
    "## Data Preprocessing\n",
    "\n",
    "In this section, we perform some data preprocessing on our dataframe `df`. The dataframe contains several columns, among which `target`, `5_label_majority_answer`, and `3_label_majority_answer` are of our interest.\n",
    "\n",
    "The `target` column contains boolean values (True/False), `5_label_majority_answer` can have five different values: 'agree', 'mostly agree', 'disagree', 'mostly disagree' and 'NO MAJORITY', and `3_label_majority_answer` can have three different values: 'agree', 'disagree' and 'unrelated'.\n",
    "\n",
    "We first filter out the rows where `5_label_majority_answer` is 'NO MAJORITY' or `3_label_majority_answer` is 'unrelated'. This is done to focus our analysis on the rows where we have a clear majority answer.\n",
    "\n",
    "Next, we create a new column `categorical_label` based on the values in `target` and `3_label_majority_answer` columns. The value in `categorical_label` is True if `target` is True and `3_label_majority_answer` is 'agree', or if `target` is False and `3_label_majority_answer` is 'disagree'. Otherwise, the value in `categorical_label` is False.\n",
    "\n",
    "Finally, we create another column `BinaryNumLabel` which is a numerical representation of `categorical_label`. The value in `BinaryNumLabel` is 1.0 if `categorical_label` is True, and 0.0 if `categorical_label` is False. This will be useful for any machine learning algorithms that require numerical input."
   ]
  },
  {
   "cell_type": "code",
   "execution_count": 4,
   "id": "a27d7c63",
   "metadata": {},
   "outputs": [
    {
     "data": {
      "text/html": [
       "<div>\n",
       "<style scoped>\n",
       "    .dataframe tbody tr th:only-of-type {\n",
       "        vertical-align: middle;\n",
       "    }\n",
       "\n",
       "    .dataframe tbody tr th {\n",
       "        vertical-align: top;\n",
       "    }\n",
       "\n",
       "    .dataframe thead th {\n",
       "        text-align: right;\n",
       "    }\n",
       "</style>\n",
       "<table border=\"1\" class=\"dataframe\">\n",
       "  <thead>\n",
       "    <tr style=\"text-align: right;\">\n",
       "      <th></th>\n",
       "      <th>Unnamed: 0</th>\n",
       "      <th>author</th>\n",
       "      <th>statement</th>\n",
       "      <th>target</th>\n",
       "      <th>BinaryNumTarget</th>\n",
       "      <th>manual_keywords</th>\n",
       "      <th>tweet</th>\n",
       "      <th>5_label_majority_answer</th>\n",
       "      <th>3_label_majority_answer</th>\n",
       "      <th>categorical_label</th>\n",
       "      <th>BinaryNumLabel</th>\n",
       "    </tr>\n",
       "  </thead>\n",
       "  <tbody>\n",
       "    <tr>\n",
       "      <th>0</th>\n",
       "      <td>0</td>\n",
       "      <td>D.L. Davis</td>\n",
       "      <td>End of eviction moratorium means millions of A...</td>\n",
       "      <td>True</td>\n",
       "      <td>1.0</td>\n",
       "      <td>Americans, eviction moratorium</td>\n",
       "      <td>@POTUS Biden Blunders - 6 Month Update\\n\\nInfl...</td>\n",
       "      <td>Mostly Agree</td>\n",
       "      <td>Agree</td>\n",
       "      <td>True</td>\n",
       "      <td>1.0</td>\n",
       "    </tr>\n",
       "    <tr>\n",
       "      <th>2</th>\n",
       "      <td>2</td>\n",
       "      <td>D.L. Davis</td>\n",
       "      <td>End of eviction moratorium means millions of A...</td>\n",
       "      <td>True</td>\n",
       "      <td>1.0</td>\n",
       "      <td>Americans, eviction moratorium</td>\n",
       "      <td>THE SUPREME COURT is siding with super rich pr...</td>\n",
       "      <td>Agree</td>\n",
       "      <td>Agree</td>\n",
       "      <td>True</td>\n",
       "      <td>1.0</td>\n",
       "    </tr>\n",
       "    <tr>\n",
       "      <th>3</th>\n",
       "      <td>3</td>\n",
       "      <td>D.L. Davis</td>\n",
       "      <td>End of eviction moratorium means millions of A...</td>\n",
       "      <td>True</td>\n",
       "      <td>1.0</td>\n",
       "      <td>Americans, eviction moratorium</td>\n",
       "      <td>@POTUS Biden Blunders\\n\\nBroken campaign promi...</td>\n",
       "      <td>Mostly Agree</td>\n",
       "      <td>Agree</td>\n",
       "      <td>True</td>\n",
       "      <td>1.0</td>\n",
       "    </tr>\n",
       "    <tr>\n",
       "      <th>4</th>\n",
       "      <td>4</td>\n",
       "      <td>D.L. Davis</td>\n",
       "      <td>End of eviction moratorium means millions of A...</td>\n",
       "      <td>True</td>\n",
       "      <td>1.0</td>\n",
       "      <td>Americans, eviction moratorium</td>\n",
       "      <td>@OhComfy I agree. The confluence of events rig...</td>\n",
       "      <td>Agree</td>\n",
       "      <td>Agree</td>\n",
       "      <td>True</td>\n",
       "      <td>1.0</td>\n",
       "    </tr>\n",
       "    <tr>\n",
       "      <th>5</th>\n",
       "      <td>5</td>\n",
       "      <td>D.L. Davis</td>\n",
       "      <td>End of eviction moratorium means millions of A...</td>\n",
       "      <td>True</td>\n",
       "      <td>1.0</td>\n",
       "      <td>Americans, eviction moratorium</td>\n",
       "      <td>I've said this before, but it really is incred...</td>\n",
       "      <td>Agree</td>\n",
       "      <td>Agree</td>\n",
       "      <td>True</td>\n",
       "      <td>1.0</td>\n",
       "    </tr>\n",
       "  </tbody>\n",
       "</table>\n",
       "</div>"
      ],
      "text/plain": [
       "   Unnamed: 0      author                                          statement  \\\n",
       "0           0  D.L. Davis  End of eviction moratorium means millions of A...   \n",
       "2           2  D.L. Davis  End of eviction moratorium means millions of A...   \n",
       "3           3  D.L. Davis  End of eviction moratorium means millions of A...   \n",
       "4           4  D.L. Davis  End of eviction moratorium means millions of A...   \n",
       "5           5  D.L. Davis  End of eviction moratorium means millions of A...   \n",
       "\n",
       "   target  BinaryNumTarget                 manual_keywords  \\\n",
       "0    True              1.0  Americans, eviction moratorium   \n",
       "2    True              1.0  Americans, eviction moratorium   \n",
       "3    True              1.0  Americans, eviction moratorium   \n",
       "4    True              1.0  Americans, eviction moratorium   \n",
       "5    True              1.0  Americans, eviction moratorium   \n",
       "\n",
       "                                               tweet 5_label_majority_answer  \\\n",
       "0  @POTUS Biden Blunders - 6 Month Update\\n\\nInfl...            Mostly Agree   \n",
       "2  THE SUPREME COURT is siding with super rich pr...                   Agree   \n",
       "3  @POTUS Biden Blunders\\n\\nBroken campaign promi...            Mostly Agree   \n",
       "4  @OhComfy I agree. The confluence of events rig...                   Agree   \n",
       "5  I've said this before, but it really is incred...                   Agree   \n",
       "\n",
       "  3_label_majority_answer  categorical_label  BinaryNumLabel  \n",
       "0                   Agree               True             1.0  \n",
       "2                   Agree               True             1.0  \n",
       "3                   Agree               True             1.0  \n",
       "4                   Agree               True             1.0  \n",
       "5                   Agree               True             1.0  "
      ]
     },
     "execution_count": 4,
     "metadata": {},
     "output_type": "execute_result"
    }
   ],
   "source": [
    "# First, eliminate from the dataframe every row that has in the corresponding column the value of NO MAJORITY, or the value of unrelated.\n",
    "df = df[(df['5_label_majority_answer'] != 'NO MAJORITY') & (df['3_label_majority_answer'] != 'unrelated')]\n",
    "\n",
    "# Function to calculate categorical_label\n",
    "def calculate_categorical_label(row):\n",
    "    label = row['3_label_majority_answer'].lower()  # convert to lowercase\n",
    "    if row['target'] == True and label == 'agree':\n",
    "        return True\n",
    "    elif row['target'] == True and label == 'disagree':\n",
    "        return False\n",
    "    elif row['target'] == False and label == 'agree':\n",
    "        return False\n",
    "    elif row['target'] == False and label == 'disagree':\n",
    "        return True\n",
    "\n",
    "# Apply the function to the dataframe\n",
    "df['categorical_label'] = df.apply(calculate_categorical_label, axis=1)\n",
    "\n",
    "# Create BinaryNumLabel column\n",
    "df['BinaryNumLabel'] = df['categorical_label'].apply(lambda x: 1.0 if x == True else 0.0)\n",
    "\n",
    "df.head(5)"
   ]
  },
  {
   "cell_type": "markdown",
   "id": "82874a50",
   "metadata": {},
   "source": [
    "Quick check of the remainder rows and whether is still a balanced dataset"
   ]
  },
  {
   "cell_type": "code",
   "execution_count": 5,
   "id": "58eaf144",
   "metadata": {},
   "outputs": [
    {
     "name": "stdout",
     "output_type": "stream",
     "text": [
      "Count of different values in 'categorical_label' column:\n",
      "categorical_label\n",
      "True     57429\n",
      "False    54164\n",
      "Name: count, dtype: int64\n",
      "Count of different values in 'BinaryNumLabel' column:\n",
      "BinaryNumLabel\n",
      "1.0    57429\n",
      "0.0    54164\n",
      "Name: count, dtype: int64\n"
     ]
    }
   ],
   "source": [
    "# Show a count of different values available in the 'target' column\n",
    "print(\"Count of different values in 'categorical_label' column:\")\n",
    "print(df['categorical_label'].value_counts())\n",
    "\n",
    "# Show a count of different values available in the next column\n",
    "print(f\"Count of different values in 'BinaryNumLabel' column:\")\n",
    "print(df['BinaryNumLabel'].value_counts())"
   ]
  },
  {
   "cell_type": "markdown",
   "id": "4eed8667",
   "metadata": {},
   "source": [
    "Preprocessing of Tweets\n",
    "Preprocessing is a crucial step in any Natural Language Processing (NLP) task, including text classification of tweets. The goal of preprocessing is to clean and standardize the data before it is input into a model. Here are the preprocessing steps we used:\n",
    "\n",
    "Lowercasing: We convert all the text to lowercase. This helps to avoid having multiple copies of the same words (e.g., ‘Hello’, ‘hello’, ‘HELLO’).\n",
    "Handling URLs: We remove URLs as they may not provide useful information for our task. URLs are identified using regular expressions and are removed from the tweets.\n",
    "Handling User Mentions: User mentions (i.e., strings starting with ‘@’) are removed as they might not provide useful information for our task.\n",
    "Handling Hashtags: Hashtags (i.e., strings starting with ‘#’) can be tricky. They often convey important information in tweets. We keep the text of the hashtag but remove the ‘#’ symbol."
   ]
  },
  {
   "cell_type": "code",
   "execution_count": 6,
   "id": "6d389c90",
   "metadata": {},
   "outputs": [],
   "source": [
    "import re\n",
    "\n",
    "\n",
    "# Preprocessing\n",
    "def preprocess_tweet(text):\n",
    "    text = text.lower()  # convert to lowercase\n",
    "    text = re.sub(r\"http\\\\S+|www\\\\S+|https\\\\S+\", '', text, flags=re.MULTILINE)  # remove urls\n",
    "    text = re.sub(r'\\\\@\\\\w+|\\\\#','', text)  # remove mentions and hashtags\n",
    "    return text\n",
    "\n",
    "df['processed_tweet'] = df['tweet'].apply(preprocess_tweet)"
   ]
  },
  {
   "cell_type": "markdown",
   "id": "20303dcf",
   "metadata": {},
   "source": [
    "Use of Classical ML Classifiers\n",
    "We use several classical machine learning classifiers to perform the task of text classification on our preprocessed tweets. These classifiers include:\n",
    "\n",
    "Random Forest: This is an ensemble learning method that operates by constructing multiple decision trees at training time and outputting the class that is the mode of the classes of the individual trees.\n",
    "Naive Bayes: This is a probabilistic classifier based on applying Bayes’ theorem with strong independence assumptions between the features.\n",
    "Logistic Regression: Despite its name, this is a linear model for classification rather than regression. It is also known as logit regression, maximum-entropy classification (MaxEnt), or the log-linear classifier.\n",
    "Gradient Boosting Classifier: This is another ensemble machine learning algorithm that constructs new predictors that aim to correct the residuals errors of the prior predictor, hence improving the model’s accuracy.\n",
    "Each of these classifiers is trained on the preprocessed tweet data and then used to predict the labels of the test data. The performance of each classifier is evaluated using standard metrics such as precision, recall, and F1-score."
   ]
  },
  {
   "cell_type": "code",
   "execution_count": 7,
   "id": "861ea2dc",
   "metadata": {},
   "outputs": [
    {
     "name": "stdout",
     "output_type": "stream",
     "text": [
      "\\nRandom Forest:\n",
      "              precision    recall  f1-score   support\n",
      "\n",
      "         0.0       0.95      0.95      0.95     10774\n",
      "         1.0       0.96      0.95      0.95     11545\n",
      "\n",
      "    accuracy                           0.95     22319\n",
      "   macro avg       0.95      0.95      0.95     22319\n",
      "weighted avg       0.95      0.95      0.95     22319\n",
      "\n"
     ]
    },
    {
     "data": {
      "image/png": "[encoded data removed]",
      "text/plain": [
       "<Figure size 700x500 with 2 Axes>"
      ]
     },
     "metadata": {},
     "output_type": "display_data"
    },
    {
     "name": "stdout",
     "output_type": "stream",
     "text": [
      "\\nNaive Bayes:\n",
      "              precision    recall  f1-score   support\n",
      "\n",
      "         0.0       0.93      0.91      0.92     10774\n",
      "         1.0       0.92      0.93      0.93     11545\n",
      "\n",
      "    accuracy                           0.92     22319\n",
      "   macro avg       0.92      0.92      0.92     22319\n",
      "weighted avg       0.92      0.92      0.92     22319\n",
      "\n"
     ]
    },
    {
     "data": {
      "image/png": "[encoded data removed]",
      "text/plain": [
       "<Figure size 700x500 with 2 Axes>"
      ]
     },
     "metadata": {},
     "output_type": "display_data"
    },
    {
     "name": "stdout",
     "output_type": "stream",
     "text": [
      "\\nLogistic Regression:\n",
      "              precision    recall  f1-score   support\n",
      "\n",
      "         0.0       0.95      0.95      0.95     10774\n",
      "         1.0       0.95      0.95      0.95     11545\n",
      "\n",
      "    accuracy                           0.95     22319\n",
      "   macro avg       0.95      0.95      0.95     22319\n",
      "weighted avg       0.95      0.95      0.95     22319\n",
      "\n"
     ]
    },
    {
     "data": {
      "image/png": "[encoded data removed]",
      "text/plain": [
       "<Figure size 700x500 with 2 Axes>"
      ]
     },
     "metadata": {},
     "output_type": "display_data"
    },
    {
     "name": "stdout",
     "output_type": "stream",
     "text": [
      "\\nGradient Boosting Classifier:\n",
      "              precision    recall  f1-score   support\n",
      "\n",
      "         0.0       0.92      0.74      0.82     10774\n",
      "         1.0       0.79      0.94      0.86     11545\n",
      "\n",
      "    accuracy                           0.84     22319\n",
      "   macro avg       0.85      0.84      0.84     22319\n",
      "weighted avg       0.85      0.84      0.84     22319\n",
      "\n"
     ]
    },
    {
     "data": {
      "image/png": "[encoded data removed]",
      "text/plain": [
       "<Figure size 700x500 with 2 Axes>"
      ]
     },
     "metadata": {},
     "output_type": "display_data"
    }
   ],
   "source": [
    "import matplotlib.pyplot as plt\n",
    "import seaborn as sns\n",
    "from sklearn.ensemble import GradientBoostingClassifier, RandomForestClassifier\n",
    "from sklearn.feature_extraction.text import TfidfVectorizer\n",
    "from sklearn.linear_model import LogisticRegression\n",
    "from sklearn.metrics import classification_report, confusion_matrix\n",
    "from sklearn.model_selection import train_test_split\n",
    "from sklearn.naive_bayes import MultinomialNB\n",
    "\n",
    "# Vectorize the tweets using TF-IDF\n",
    "vectorizer = TfidfVectorizer(stop_words='english', use_idf=True)\n",
    "X = vectorizer.fit_transform(df['processed_tweet'])\n",
    "y = df['BinaryNumLabel']\n",
    "\n",
    "# Split the data into training and testing sets\n",
    "X_train, X_test, y_train, y_test = train_test_split(X, y, test_size=0.2, random_state=42)\n",
    "\n",
    "# Define the classifiers\n",
    "classifiers = {\n",
    "    \"Random Forest\": RandomForestClassifier(n_jobs=-1),\n",
    "    \"Naive Bayes\": MultinomialNB(),\n",
    "    \"Logistic Regression\": LogisticRegression(),\n",
    "    \"Gradient Boosting Classifier\": GradientBoostingClassifier()\n",
    "}\n",
    "\n",
    "# Define a function to plot the confusion matrix\n",
    "def plot_confusion_matrix(y_true, y_pred, title):\n",
    "    cm = confusion_matrix(y_true, y_pred)\n",
    "    plt.figure(figsize=(7,5))\n",
    "    sns.heatmap(cm, annot=True, fmt='d', cmap='Blues')\n",
    "    plt.title(f'Confusion Matrix for {title}')\n",
    "    plt.xlabel('Predicted Label')\n",
    "    plt.ylabel('True Label')\n",
    "    plt.show()\n",
    "\n",
    "# Train and evaluate the classifiers\n",
    "for name, classifier in classifiers.items():\n",
    "    classifier.fit(X_train, y_train)\n",
    "    y_pred = classifier.predict(X_test)\n",
    "    print(f\"\\\\n{name}:\")\n",
    "    print(classification_report(y_test, y_pred))\n",
    "    plot_confusion_matrix(y_test, y_pred, name)"
   ]
  },
  {
   "cell_type": "code",
   "execution_count": 8,
   "id": "70720f5a",
   "metadata": {},
   "outputs": [
    {
     "name": "stdout",
     "output_type": "stream",
     "text": [
      "  (0, 89329)\t0.20872283063305613\n",
      "  (0, 38610)\t0.10677905647145475\n",
      "  (0, 90808)\t0.17324993142613138\n",
      "  (0, 46622)\t0.17594836161666771\n",
      "  (0, 110468)\t0.24486159217127024\n",
      "  (0, 3341)\t0.2599435857921464\n",
      "  (0, 99166)\t0.18793130630092741\n",
      "  (0, 46860)\t0.240020307250474\n",
      "  (0, 105397)\t0.1393362262906766\n",
      "  (0, 5630)\t0.18545712002487452\n",
      "  (0, 56499)\t0.15917742269001764\n",
      "  (0, 69588)\t0.13864648486434283\n",
      "  (0, 20737)\t0.16444357350517255\n",
      "  (0, 32588)\t0.1506575603273225\n",
      "  (0, 19927)\t0.12580195609360048\n",
      "  (0, 129908)\t0.16110745391802284\n",
      "  (0, 12024)\t0.2543325788065363\n",
      "  (0, 6812)\t0.15373420061688634\n",
      "  (0, 9273)\t0.10435897547387508\n",
      "  (0, 5180)\t0.250786846042217\n",
      "  (0, 74858)\t0.13915384088996866\n",
      "  (0, 31871)\t0.09950135401793453\n",
      "  (0, 89298)\t0.23129735745880844\n",
      "  (0, 37016)\t0.1894246705802489\n",
      "  (0, 63585)\t0.14225249813559449\n",
      "  :\t:\n",
      "  (111592, 100007)\t0.21259208202782934\n",
      "  (111592, 85401)\t0.22070463397960036\n",
      "  (111592, 55726)\t0.22964370362845918\n",
      "  (111592, 122976)\t0.18056871258424825\n",
      "  (111592, 108327)\t0.15447323342740982\n",
      "  (111592, 122964)\t0.2095497443615405\n",
      "  (111592, 100008)\t0.21227284985080086\n",
      "  (111592, 7329)\t0.22822196840445305\n",
      "  (111592, 56719)\t0.17063572269064242\n",
      "  (111592, 147636)\t0.14827046321126328\n",
      "  (111592, 124540)\t0.1964660583044314\n",
      "  (111592, 55914)\t0.45434486669165314\n",
      "  (111592, 75739)\t0.11563674249066014\n",
      "  (111592, 443)\t0.1505010977586521\n",
      "  (111592, 40700)\t0.12765864704962718\n",
      "  (111592, 40208)\t0.15070275455259305\n",
      "  (111592, 117937)\t0.13107416946934367\n",
      "  (111592, 18241)\t0.1280222976732497\n",
      "  (111592, 17287)\t0.16578616078532474\n",
      "  (111592, 142793)\t0.12490494804520655\n",
      "  (111592, 79627)\t0.10650734302422951\n",
      "  (111592, 85395)\t0.1569039432678604\n",
      "  (111592, 116637)\t0.11508671873716898\n",
      "  (111592, 38610)\t0.11489169420788084\n",
      "  (111592, 17211)\t0.09096636670175047\n"
     ]
    }
   ],
   "source": [
    "print(X)"
   ]
  },
  {
   "cell_type": "markdown",
   "id": "36ab7c10",
   "metadata": {},
   "source": [
    "We start the study again using BERT models. They are pre trained transformer models (unsupervised Ml algorithms)"
   ]
  },
  {
   "cell_type": "code",
   "execution_count": 9,
   "id": "0891f6f1",
   "metadata": {},
   "outputs": [],
   "source": [
    "from transformers import BertTokenizer, BertForSequenceClassification\n",
    "from torch.utils.data import DataLoader, Dataset\n",
    "from transformers import AdamW\n",
    "import torch"
   ]
  },
  {
   "cell_type": "code",
   "execution_count": 10,
   "id": "2e177912",
   "metadata": {},
   "outputs": [],
   "source": [
    "# If running BERT without running Classical ML algorithms first\n",
    "import matplotlib.pyplot as plt\n",
    "import seaborn as sns\n",
    "from sklearn.metrics import classification_report, confusion_matrix\n",
    "from sklearn.model_selection import train_test_split"
   ]
  },
  {
   "cell_type": "code",
   "execution_count": 11,
   "id": "8c3f2014",
   "metadata": {},
   "outputs": [
    {
     "name": "stderr",
     "output_type": "stream",
     "text": [
      "Some weights of BertForSequenceClassification were not initialized from the model checkpoint at bert-base-uncased and are newly initialized: ['classifier.bias', 'classifier.weight']\n",
      "You should probably TRAIN this model on a down-stream task to be able to use it for predictions and inference.\n",
      "/Users/daniel.diaz/Documents/GitHub/CM3070_FP_Repo/.venv/lib/python3.9/site-packages/transformers/tokenization_utils_base.py:1601: FutureWarning: `clean_up_tokenization_spaces` was not set. It will be set to `True` by default. This behavior will be depracted in transformers v4.45, and will be then set to `False` by default. For more details check this issue: https://github.com/huggingface/transformers/issues/31884\n",
      "  warnings.warn(\n"
     ]
    }
   ],
   "source": [
    "# Define the TweetDataset class\n",
    "class TweetDataset(Dataset):\n",
    "    def __init__(self, tweets, labels, tokenizer, max_len):\n",
    "        self.tweets = tweets\n",
    "        self.labels = labels\n",
    "        self.tokenizer = tokenizer\n",
    "        self.max_len = max_len\n",
    "\n",
    "    def __len__(self):\n",
    "        return len(self.tweets)\n",
    "\n",
    "    def __getitem__(self, item):\n",
    "        tweet = str(self.tweets[item])\n",
    "        label = self.labels[item]\n",
    "\n",
    "        encoding = self.tokenizer.encode_plus(\n",
    "            tweet,\n",
    "            add_special_tokens=True,\n",
    "            max_length=self.max_len,\n",
    "            return_token_type_ids=False,\n",
    "            padding='max_length',\n",
    "            truncation=True,\n",
    "            return_attention_mask=True,\n",
    "            return_tensors='pt',\n",
    "        )\n",
    "\n",
    "        input_ids = encoding['input_ids'].view(-1)\n",
    "        attention_mask = encoding['attention_mask'].view(-1)\n",
    "\n",
    "        return {\n",
    "            'tweet_text': tweet,\n",
    "            'input_ids': input_ids,\n",
    "            'attention_mask': attention_mask,\n",
    "            'labels': torch.tensor(label, dtype=torch.long)\n",
    "        }\n",
    "\n",
    "# Load pre-trained model and tokenizer\n",
    "model = BertForSequenceClassification.from_pretrained('bert-base-uncased')\n",
    "tokenizer = BertTokenizer.from_pretrained('bert-base-uncased')"
   ]
  },
  {
   "cell_type": "code",
   "execution_count": 12,
   "id": "fcdd5453",
   "metadata": {},
   "outputs": [],
   "source": [
    "# Specify the device\n",
    "device = torch.device(\"mps\")\n",
    "\n",
    "# Move the model to the device\n",
    "model = model.to(device)"
   ]
  },
  {
   "cell_type": "code",
   "execution_count": 13,
   "id": "1fb7cf95",
   "metadata": {},
   "outputs": [
    {
     "name": "stderr",
     "output_type": "stream",
     "text": [
      "/Users/daniel.diaz/Documents/GitHub/CM3070_FP_Repo/.venv/lib/python3.9/site-packages/transformers/optimization.py:591: FutureWarning: This implementation of AdamW is deprecated and will be removed in a future version. Use the PyTorch implementation torch.optim.AdamW instead, or set `no_deprecation_warning=True` to disable this warning\n",
      "  warnings.warn(\n"
     ]
    }
   ],
   "source": [
    "# Preprocess the tweets\n",
    "def preprocess(tweet):\n",
    "    return tokenizer.encode_plus(\n",
    "        tweet,\n",
    "        add_special_tokens=True,\n",
    "        max_length=256, # from 512 -> 256\n",
    "        padding='max_length',\n",
    "        truncation=True,\n",
    "        return_attention_mask=True,\n",
    "        return_tensors='pt',\n",
    "    )\n",
    "\n",
    "# Apply preprocessing to the entire dataset\n",
    "X = [preprocess(tweet) for tweet in df['tweet']]\n",
    "y = df['BinaryNumLabel'].tolist()\n",
    "\n",
    "# Split the data into training+validation and testing sets\n",
    "X_temp, X_test, y_temp, y_test = train_test_split(X, y, test_size=0.2, random_state=42)\n",
    "\n",
    "# Further split the training+validation set into separate training and validation sets\n",
    "X_train, X_val, y_train, y_val = train_test_split(X_temp, y_temp, test_size=0.25, random_state=42)  # 0.25 x 0.8 = 0.2\n",
    "\n",
    "# Create the TweetDataset\n",
    "train_dataset = TweetDataset(\n",
    "    tweets=X_train,\n",
    "    labels=y_train,\n",
    "    tokenizer=tokenizer,\n",
    "    max_len=256 # from 512 -> 256\n",
    ")\n",
    "\n",
    "val_dataset = TweetDataset(\n",
    "    tweets=X_val,\n",
    "    labels=y_val,\n",
    "    tokenizer=tokenizer,\n",
    "    max_len=256 # from 512 -> 256\n",
    ")\n",
    "\n",
    "test_dataset = TweetDataset(\n",
    "    tweets=X_test,\n",
    "    labels=y_test,\n",
    "    tokenizer=tokenizer,\n",
    "    max_len=256 # from 512 -> 256\n",
    ")\n",
    "\n",
    "# Create DataLoaders for training, validation, and testing sets\n",
    "train_data = DataLoader(train_dataset, batch_size=32) # from 16 -> 32\n",
    "val_data = DataLoader(val_dataset, batch_size=32) # from 16 -> 32\n",
    "test_data = DataLoader(test_dataset, batch_size=32) # from 16 -> 32\n",
    "\n",
    "# Specify the optimizer\n",
    "optimizer = AdamW(model.parameters(), lr=1e-5)\n",
    "\n",
    "epochs = 10 # or any other number depending on how it goes\n",
    "\n",
    "# to check: early stopping\n",
    "# set a relatively high number of epochs (e.g., 100 or 1000), and then \n",
    "# stop the training early if the model’s performance on a validation set \n",
    "# stops improving after a certain number of epochs\n",
    "\n",
    "# Define the early stopping criteria\n",
    "patience = 3  # number of epochs to wait for improvement before stopping\n",
    "best_loss = None\n",
    "no_improve_count = 0\n",
    "\n",
    "# Initialize a list to hold the validation losses\n",
    "val_losses = []"
   ]
  },
  {
   "cell_type": "markdown",
   "id": "93c8f9f1",
   "metadata": {},
   "source": []
  },
  {
   "cell_type": "code",
   "execution_count": 14,
   "id": "f8a90f50",
   "metadata": {},
   "outputs": [
    {
     "name": "stderr",
     "output_type": "stream",
     "text": [
      "/var/folders/y3/skqrkws14bs48tkyfrn2wnp80000gn/T/ipykernel_29795/3454705677.py:34: DeprecationWarning: an integer is required (got type float).  Implicit conversion to integers using __int__ is deprecated, and may be removed in a future version of Python.\n",
      "  'labels': torch.tensor(label, dtype=torch.long)\n"
     ]
    },
    {
     "name": "stdout",
     "output_type": "stream",
     "text": [
      "Stopping training after 5 epochs due to no improvement.\n"
     ]
    },
    {
     "data": {
      "image/png": "[encoded data removed]",
      "text/plain": [
       "<Figure size 640x480 with 1 Axes>"
      ]
     },
     "metadata": {},
     "output_type": "display_data"
    }
   ],
   "source": [
    "# Train the model\n",
    "for epoch in range(epochs):\n",
    "    for batch in train_data:\n",
    "        optimizer.zero_grad()\n",
    "        input_ids = batch['input_ids'].squeeze().to(device)\n",
    "        attention_mask = batch['attention_mask'].squeeze().to(device)\n",
    "        labels = batch['labels'].to(device)\n",
    "        outputs = model(input_ids, attention_mask=attention_mask, labels=labels)\n",
    "        loss = outputs.loss\n",
    "        loss.backward()\n",
    "        optimizer.step()\n",
    "\n",
    "    # Evaluate the model on the validation set\n",
    "    val_loss = 0\n",
    "    for batch in val_data:  # use val_data instead of test_data\n",
    "        input_ids = batch['input_ids'].squeeze().to(device)\n",
    "        attention_mask = batch['attention_mask'].squeeze().to(device)\n",
    "        labels = batch['labels'].to(device)\n",
    "        outputs = model(input_ids, attention_mask=attention_mask, labels=labels)\n",
    "        val_loss += outputs.loss.item()\n",
    "\n",
    "    # Add the validation loss for this epoch to the list\n",
    "    val_losses.append(val_loss)\n",
    "\n",
    "    # Check for improvement\n",
    "    if best_loss is None or val_loss < best_loss:\n",
    "        best_loss = val_loss\n",
    "        no_improve_count = 0\n",
    "        # Save the model\n",
    "        model_name = '_bert-base-uncased_'\n",
    "        dataset_name = '_TruthSeeker2023_'\n",
    "        model_path = f\"_model_epoch{epoch}_valLoss{val_loss:.2f}_batchSize{train_data.batch_size}.pth\"\n",
    "        torch.save(model.state_dict(), dataset_name + model_name + model_path)\n",
    "    else:\n",
    "        no_improve_count += 1\n",
    "\n",
    "    # Stop training if there's no improvement for 'patience' epochs\n",
    "    if no_improve_count >= patience:\n",
    "        print(f\"Stopping training after {epoch} epochs due to no improvement.\")\n",
    "        break\n",
    "\n",
    "# Plot the validation loss over each epoch\n",
    "plt.plot(val_losses)\n",
    "plt.xlabel('Epoch')\n",
    "plt.ylabel('Validation Loss')\n",
    "plt.title('Validation Loss Over Time')\n",
    "plt.show()"
   ]
  },
  {
   "cell_type": "markdown",
   "id": "58593d44",
   "metadata": {},
   "source": []
  },
  {
   "cell_type": "code",
   "execution_count": 15,
   "id": "366a22b8",
   "metadata": {},
   "outputs": [
    {
     "name": "stderr",
     "output_type": "stream",
     "text": [
      "/var/folders/y3/skqrkws14bs48tkyfrn2wnp80000gn/T/ipykernel_29795/3454705677.py:34: DeprecationWarning: an integer is required (got type float).  Implicit conversion to integers using __int__ is deprecated, and may be removed in a future version of Python.\n",
      "  'labels': torch.tensor(label, dtype=torch.long)\n"
     ]
    },
    {
     "name": "stdout",
     "output_type": "stream",
     "text": [
      "Accuracy: 0.9314933464760966\n",
      "Precision: 0.9316381550634677\n",
      "Recall: 0.9314933464760966\n",
      "F1 Score: 0.9314604250292978\n"
     ]
    }
   ],
   "source": [
    "# code for model evaluation\n",
    "from sklearn.metrics import accuracy_score, precision_score, recall_score, f1_score\n",
    "\n",
    "# Get the predictions for the test set\n",
    "y_pred = []\n",
    "for batch in test_data:\n",
    "    input_ids = batch['input_ids'].squeeze().to(device)\n",
    "    attention_mask = batch['attention_mask'].squeeze().to(device)\n",
    "    outputs = model(input_ids, attention_mask=attention_mask)\n",
    "    y_pred.extend(torch.argmax(outputs.logits, dim=1).tolist())\n",
    "\n",
    "# Calculate the metrics\n",
    "accuracy = accuracy_score(y_test, y_pred)\n",
    "precision = precision_score(y_test, y_pred, average='weighted')\n",
    "recall = recall_score(y_test, y_pred, average='weighted')\n",
    "f1 = f1_score(y_test, y_pred, average='weighted')\n",
    "\n",
    "print(f'Accuracy: {accuracy}')\n",
    "print(f'Precision: {precision}')\n",
    "print(f'Recall: {recall}')\n",
    "print(f'F1 Score: {f1}')\n"
   ]
  },
  {
   "cell_type": "markdown",
   "id": "c5a8dce6",
   "metadata": {},
   "source": []
  },
  {
   "cell_type": "code",
   "execution_count": 16,
   "id": "1d2d30e0",
   "metadata": {},
   "outputs": [
    {
     "data": {
      "image/png": "[encoded data removed]",
      "text/plain": [
       "<Figure size 1000x700 with 2 Axes>"
      ]
     },
     "metadata": {},
     "output_type": "display_data"
    }
   ],
   "source": [
    "# Import the necessary libraries\n",
    "import seaborn as sns\n",
    "from sklearn.metrics import confusion_matrix\n",
    "import matplotlib.pyplot as plt\n",
    "\n",
    "# Calculate the confusion matrix\n",
    "cm = confusion_matrix(y_test, y_pred)\n",
    "\n",
    "# Plot the confusion matrix as a heatmap\n",
    "plt.figure(figsize=(10,7))\n",
    "sns.heatmap(cm, annot=True, fmt='d')\n",
    "plt.title('Confusion Matrix')\n",
    "plt.xlabel('Predicted')\n",
    "plt.ylabel('Actual')\n",
    "plt.show()\n"
   ]
  },
  {
   "cell_type": "code",
   "execution_count": 17,
   "id": "90793c4a",
   "metadata": {},
   "outputs": [
    {
     "name": "stdout",
     "output_type": "stream",
     "text": [
      "5\n",
      "186.69576601684093\n",
      "32\n"
     ]
    }
   ],
   "source": [
    "print (epoch)\n",
    "print (val_loss)\n",
    "print (train_data.batch_size)"
   ]
  },
  {
   "cell_type": "code",
   "execution_count": 18,
   "id": "ebab7d96",
   "metadata": {},
   "outputs": [
    {
     "name": "stdout",
     "output_type": "stream",
     "text": [
      "1e-05\n",
      "0.0\n"
     ]
    }
   ],
   "source": [
    "print(optimizer.defaults['lr'])\n",
    "print(optimizer.defaults['weight_decay'])"
   ]
  },
  {
   "cell_type": "code",
   "execution_count": 19,
   "id": "7370f31d",
   "metadata": {},
   "outputs": [],
   "source": [
    "# Save the model\n",
    "model_name = '_bert-base-uncased_'\n",
    "dataset_name = '_TruthSeeker2023_'\n",
    "model_path = f\"_model_epoch{epoch}_valLoss{val_loss:.2f}_batchSize{train_data.batch_size}.pth\"\n",
    "torch.save(model.state_dict(), dataset_name + model_name + model_path)"
   ]
  },
  {
   "cell_type": "code",
   "execution_count": 20,
   "id": "4ed84378",
   "metadata": {},
   "outputs": [],
   "source": [
    "from transformers import RobertaTokenizer, RobertaForSequenceClassification\n",
    "from torch.utils.data import DataLoader, Dataset\n",
    "from transformers import AdamW\n",
    "import torch"
   ]
  },
  {
   "cell_type": "code",
   "execution_count": 21,
   "id": "b72dc0dd",
   "metadata": {},
   "outputs": [
    {
     "name": "stderr",
     "output_type": "stream",
     "text": [
      "Some weights of RobertaForSequenceClassification were not initialized from the model checkpoint at roberta-base and are newly initialized: ['classifier.dense.bias', 'classifier.dense.weight', 'classifier.out_proj.bias', 'classifier.out_proj.weight']\n",
      "You should probably TRAIN this model on a down-stream task to be able to use it for predictions and inference.\n",
      "/Users/daniel.diaz/Documents/GitHub/CM3070_FP_Repo/.venv/lib/python3.9/site-packages/transformers/tokenization_utils_base.py:1601: FutureWarning: `clean_up_tokenization_spaces` was not set. It will be set to `True` by default. This behavior will be depracted in transformers v4.45, and will be then set to `False` by default. For more details check this issue: https://github.com/huggingface/transformers/issues/31884\n",
      "  warnings.warn(\n"
     ]
    }
   ],
   "source": [
    "# Define the TweetDataset class\n",
    "class TweetDataset(Dataset):\n",
    "    def __init__(self, tweets, labels, tokenizer, max_len):\n",
    "        self.tweets = tweets\n",
    "        self.labels = labels\n",
    "        self.tokenizer = tokenizer\n",
    "        self.max_len = max_len\n",
    "\n",
    "    def __len__(self):\n",
    "        return len(self.tweets)\n",
    "\n",
    "    def __getitem__(self, item):\n",
    "        tweet = str(self.tweets[item])\n",
    "        label = self.labels[item]\n",
    "\n",
    "        encoding = self.tokenizer.encode_plus(\n",
    "            tweet,\n",
    "            add_special_tokens=True,\n",
    "            max_length=self.max_len,\n",
    "            return_token_type_ids=False,\n",
    "            padding='max_length',\n",
    "            truncation=True,\n",
    "            return_attention_mask=True,\n",
    "            return_tensors='pt',\n",
    "        )\n",
    "\n",
    "        input_ids = encoding['input_ids'].view(-1)\n",
    "        attention_mask = encoding['attention_mask'].view(-1)\n",
    "\n",
    "        return {\n",
    "            'tweet_text': tweet,\n",
    "            'input_ids': input_ids,\n",
    "            'attention_mask': attention_mask,\n",
    "            'labels': torch.tensor(label, dtype=torch.long)\n",
    "        }\n",
    "\n",
    "# Load pre-trained model and tokenizer\n",
    "model = RobertaForSequenceClassification.from_pretrained('roberta-base')\n",
    "tokenizer = RobertaTokenizer.from_pretrained('roberta-base')"
   ]
  },
  {
   "cell_type": "code",
   "execution_count": 22,
   "id": "e112a2d6",
   "metadata": {},
   "outputs": [],
   "source": [
    "# Specify the device\n",
    "device = torch.device(\"mps\")\n",
    "\n",
    "# Move the model to the device\n",
    "model = model.to(device)"
   ]
  },
  {
   "cell_type": "code",
   "execution_count": 23,
   "id": "cf2cb1bf",
   "metadata": {},
   "outputs": [
    {
     "name": "stderr",
     "output_type": "stream",
     "text": [
      "/Users/daniel.diaz/Documents/GitHub/CM3070_FP_Repo/.venv/lib/python3.9/site-packages/transformers/optimization.py:591: FutureWarning: This implementation of AdamW is deprecated and will be removed in a future version. Use the PyTorch implementation torch.optim.AdamW instead, or set `no_deprecation_warning=True` to disable this warning\n",
      "  warnings.warn(\n"
     ]
    }
   ],
   "source": [
    "# Preprocess the tweets\n",
    "def preprocess(tweet):\n",
    "    return tokenizer.encode_plus(\n",
    "        tweet,\n",
    "        add_special_tokens=True,\n",
    "        max_length=256,  # Changed from 512 to 256\n",
    "        padding='max_length',\n",
    "        return_attention_mask=True,\n",
    "        return_tensors='pt',\n",
    "    )\n",
    "\n",
    "# Apply preprocessing to the entire dataset\n",
    "X = [preprocess(tweet) for tweet in df['tweet']]\n",
    "y = df['BinaryNumLabel'].tolist()\n",
    "\n",
    "# Split the data into training+validation and testing sets\n",
    "X_temp, X_test, y_temp, y_test = train_test_split(X, y, test_size=0.2, random_state=42)\n",
    "\n",
    "# Further split the training+validation set into separate training and validation sets\n",
    "X_train, X_val, y_train, y_val = train_test_split(X_temp, y_temp, test_size=0.25, random_state=42)  # 0.25 x 0.8 = 0.2\n",
    "\n",
    "# Create the TweetDataset\n",
    "train_dataset = TweetDataset(\n",
    "    tweets=X_train,\n",
    "    labels=y_train,\n",
    "    tokenizer=tokenizer,\n",
    "    max_len=256  # Changed from 512 to 256\n",
    ")\n",
    "\n",
    "val_dataset = TweetDataset(\n",
    "    tweets=X_val,\n",
    "    labels=y_val,\n",
    "    tokenizer=tokenizer,\n",
    "    max_len=256  # Changed from 512 to 256\n",
    ")\n",
    "\n",
    "test_dataset = TweetDataset(\n",
    "    tweets=X_test,\n",
    "    labels=y_test,\n",
    "    tokenizer=tokenizer,\n",
    "    max_len=256  # Changed from 512 to 256\n",
    ")\n",
    "\n",
    "# Create DataLoaders for training, validation, and testing sets\n",
    "train_data = DataLoader(train_dataset, batch_size=32)  # Changed from 16 to 32\n",
    "val_data = DataLoader(val_dataset, batch_size=32)  # Changed from 16 to 32\n",
    "test_data = DataLoader(test_dataset, batch_size=32)  # Changed from 16 to 32\n",
    "\n",
    "# Specify the optimizer\n",
    "optimizer = AdamW(model.parameters(), lr=1e-5) #, weight_decay=0.01)  # Added weight_decay\n",
    "\n",
    "epochs = 10  # Changed from 10 to 2"
   ]
  },
  {
   "cell_type": "code",
   "execution_count": 24,
   "id": "ac4b3b06",
   "metadata": {},
   "outputs": [],
   "source": [
    "\n",
    "# to check: early stopping\n",
    "# set a relatively high number of epochs (e.g., 100 or 1000), and then \n",
    "# stop the training early if the model’s performance on a validation set \n",
    "# stops improving after a certain number of epochs\n",
    "\n",
    "# Define the early stopping criter\n",
    "patience = 3  # number of epochs to wait for improvement before stopping\n",
    "best_loss = None\n",
    "no_improve_count = 0\n",
    "\n",
    "# Initialize a list to hold the validation losses\n",
    "val_losses = []\n"
   ]
  },
  {
   "cell_type": "code",
   "execution_count": 25,
   "id": "453c0d5a",
   "metadata": {},
   "outputs": [
    {
     "name": "stderr",
     "output_type": "stream",
     "text": [
      "/var/folders/y3/skqrkws14bs48tkyfrn2wnp80000gn/T/ipykernel_29795/2356349814.py:34: DeprecationWarning: an integer is required (got type float).  Implicit conversion to integers using __int__ is deprecated, and may be removed in a future version of Python.\n",
      "  'labels': torch.tensor(label, dtype=torch.long)\n"
     ]
    },
    {
     "name": "stdout",
     "output_type": "stream",
     "text": [
      "Stopping training after 9 epochs due to no improvement.\n"
     ]
    },
    {
     "data": {
      "image/png": "[encoded data removed]",
      "text/plain": [
       "<Figure size 640x480 with 1 Axes>"
      ]
     },
     "metadata": {},
     "output_type": "display_data"
    }
   ],
   "source": [
    "\n",
    "# Train the model\n",
    "for epoch in range(epochs):\n",
    "    for batch in train_data:\n",
    "        optimizer.zero_grad()\n",
    "        input_ids = batch['input_ids'].squeeze().to(device)\n",
    "        attention_mask = batch['attention_mask'].squeeze().to(device)\n",
    "        labels = batch['labels'].to(device)\n",
    "        outputs = model(input_ids, attention_mask=attention_mask, labels=labels)\n",
    "        loss = outputs.loss\n",
    "        loss.backward()\n",
    "        optimizer.step()\n",
    "\n",
    "    # Evaluate the model on the validation set\n",
    "    val_loss = 0\n",
    "    for batch in val_data:  # use val_data instead of test_data\n",
    "        input_ids = batch['input_ids'].squeeze().to(device)\n",
    "        attention_mask = batch['attention_mask'].squeeze().to(device)\n",
    "        labels = batch['labels'].to(device)\n",
    "        outputs = model(input_ids, attention_mask=attention_mask, labels=labels)\n",
    "        val_loss += outputs.loss.item()\n",
    "\n",
    "    # Add the validation loss for this epoch to the list\n",
    "    val_losses.append(val_loss)\n",
    "\n",
    "    # Check for improvement\n",
    "    if best_loss is None or val_loss < best_loss:\n",
    "        best_loss = val_loss\n",
    "        no_improve_count = 0\n",
    "        # Save the model\n",
    "        model_name = '_roberta-base_'\n",
    "        dataset_name = '_TruthSeeker2023_'\n",
    "        model_path = f\"_model_epoch{epoch}_valLoss{val_loss:.2f}_batchSize{train_data.batch_size}.pth\"\n",
    "        torch.save(model.state_dict(), dataset_name + model_name + model_path)\n",
    "    else:\n",
    "        no_improve_count += 1\n",
    "\n",
    "   # Stop training if there's no improvement for 'patience' epochs\n",
    "    if no_improve_count >= patience:\n",
    "        print(f\"Stopping training after {epoch} epochs due to no improvement.\")\n",
    "        break\n",
    "\n",
    "# Plot the validation loss over each epoch\n",
    "plt.plot(val_losses)\n",
    "plt.xlabel('Epoch')\n",
    "plt.ylabel('Validation Loss')\n",
    "plt.title('Validation Loss Over Time')\n",
    "plt.show()"
   ]
  },
  {
   "cell_type": "code",
   "execution_count": 26,
   "id": "dd3bab0a",
   "metadata": {},
   "outputs": [
    {
     "name": "stderr",
     "output_type": "stream",
     "text": [
      "/var/folders/y3/skqrkws14bs48tkyfrn2wnp80000gn/T/ipykernel_29795/2356349814.py:34: DeprecationWarning: an integer is required (got type float).  Implicit conversion to integers using __int__ is deprecated, and may be removed in a future version of Python.\n",
      "  'labels': torch.tensor(label, dtype=torch.long)\n"
     ]
    },
    {
     "name": "stdout",
     "output_type": "stream",
     "text": [
      "Accuracy: 0.8626282539540302\n",
      "Precision: 0.8643282173975461\n",
      "Recall: 0.8626282539540302\n",
      "F1 Score: 0.8622558387210583\n"
     ]
    }
   ],
   "source": [
    "\n",
    "# code for model evaluation\n",
    "from sklearn.metrics import accuracy_score, precision_score, recall_score, f1_score\n",
    "\n",
    "# Get the predictions for the test set\n",
    "y_pred = []\n",
    "for batch in test_data:\n",
    "    input_ids = batch['input_ids'].squeeze().to(device)\n",
    "    attention_mask = batch['attention_mask'].squeeze().to(device)\n",
    "    outputs = model(input_ids, attention_mask=attention_mask)\n",
    "    y_pred.extend(torch.argmax(outputs.logits, dim=1).tolist())\n",
    "\n",
    "# Calculate the metrics\n",
    "accuracy = accuracy_score(y_test, y_pred)\n",
    "precision = precision_score(y_test, y_pred, average='weighted')\n",
    "recall = recall_score(y_test, y_pred, average='weighted')\n",
    "f1 = f1_score(y_test, y_pred, average='weighted')\n",
    "\n",
    "print(f'Accuracy: {accuracy}')\n",
    "print(f'Precision: {precision}')\n",
    "print(f'Recall: {recall}')\n",
    "print(f'F1 Score: {f1}')"
   ]
  },
  {
   "cell_type": "code",
   "execution_count": 27,
   "id": "ac86b856",
   "metadata": {},
   "outputs": [
    {
     "data": {
      "image/png": "[encoded data removed]",
      "text/plain": [
       "<Figure size 1000x700 with 2 Axes>"
      ]
     },
     "metadata": {},
     "output_type": "display_data"
    }
   ],
   "source": [
    "# Import the necessary libraries\n",
    "import seaborn as sns\n",
    "from sklearn.metrics import confusion_matrix\n",
    "import matplotlib.pyplot as plt\n",
    "\n",
    "# Calculate the confusion matrix\n",
    "cm = confusion_matrix(y_test, y_pred)\n",
    "\n",
    "# Plot the confusion matrix as a heatmap\n",
    "plt.figure(figsize=(10,7))\n",
    "sns.heatmap(cm, annot=True, fmt='d')\n",
    "plt.title('Confusion Matrix')\n",
    "plt.xlabel('Predicted')\n",
    "plt.ylabel('Actual')\n",
    "plt.show()"
   ]
  },
  {
   "cell_type": "code",
   "execution_count": 28,
   "id": "5c9edb37",
   "metadata": {},
   "outputs": [
    {
     "name": "stdout",
     "output_type": "stream",
     "text": [
      "9\n",
      "247.2807205915451\n",
      "32\n"
     ]
    }
   ],
   "source": [
    "print (epoch)\n",
    "print (val_loss)\n",
    "print (train_data.batch_size)"
   ]
  },
  {
   "cell_type": "code",
   "execution_count": 29,
   "id": "d54486b4",
   "metadata": {},
   "outputs": [
    {
     "name": "stdout",
     "output_type": "stream",
     "text": [
      "1e-05\n",
      "0.0\n"
     ]
    }
   ],
   "source": [
    "print(optimizer.defaults['lr'])\n",
    "print(optimizer.defaults['weight_decay'])"
   ]
  },
  {
   "cell_type": "code",
   "execution_count": 30,
   "id": "b13aeb45",
   "metadata": {},
   "outputs": [],
   "source": [
    "# Save the model\n",
    "model_name = '_roberta-base_'\n",
    "dataset_name = '_TruthSeeker2023_'\n",
    "model_path = f\"_model_epoch{epoch}_valLoss{val_loss:.2f}_batchSize{train_data.batch_size}.pth\"\n",
    "torch.save(model.state_dict(), dataset_name + model_name + model_path)"
   ]
  },
  {
   "cell_type": "code",
   "execution_count": null,
   "id": "4f9e646c",
   "metadata": {},
   "outputs": [],
   "source": []
  },
  {
   "cell_type": "code",
   "execution_count": 31,
   "id": "beb08318",
   "metadata": {},
   "outputs": [],
   "source": [
    "from transformers import DistilBertTokenizer, DistilBertForSequenceClassification\n",
    "from torch.utils.data import DataLoader, Dataset\n",
    "from transformers import AdamW\n",
    "import torch\n"
   ]
  },
  {
   "cell_type": "code",
   "execution_count": 32,
   "id": "a363be3c",
   "metadata": {},
   "outputs": [],
   "source": [
    "\n",
    "import matplotlib.pyplot as plt\n",
    "import seaborn as sns\n",
    "from sklearn.metrics import classification_report, confusion_matrix\n",
    "from sklearn.model_selection import train_test_split\n"
   ]
  },
  {
   "cell_type": "code",
   "execution_count": 33,
   "id": "f1d145ad",
   "metadata": {},
   "outputs": [
    {
     "name": "stderr",
     "output_type": "stream",
     "text": [
      "Some weights of DistilBertForSequenceClassification were not initialized from the model checkpoint at distilbert-base-uncased and are newly initialized: ['classifier.bias', 'classifier.weight', 'pre_classifier.bias', 'pre_classifier.weight']\n",
      "You should probably TRAIN this model on a down-stream task to be able to use it for predictions and inference.\n",
      "/Users/daniel.diaz/Documents/GitHub/CM3070_FP_Repo/.venv/lib/python3.9/site-packages/transformers/tokenization_utils_base.py:1601: FutureWarning: `clean_up_tokenization_spaces` was not set. It will be set to `True` by default. This behavior will be depracted in transformers v4.45, and will be then set to `False` by default. For more details check this issue: https://github.com/huggingface/transformers/issues/31884\n",
      "  warnings.warn(\n"
     ]
    }
   ],
   "source": [
    "\n",
    "# Define the TweetDataset class\n",
    "class TweetDataset(Dataset):\n",
    "    def __init__(self, tweets, labels, tokenizer, max_len):\n",
    "        self.tweets = tweets\n",
    "        self.labels = labels\n",
    "        self.tokenizer = tokenizer\n",
    "        self.max_len = max_len\n",
    "\n",
    "    def __len__(self):\n",
    "        return len(self.tweets)\n",
    "\n",
    "    def __getitem__(self, item):\n",
    "        tweet = str(self.tweets[item])\n",
    "        label = self.labels[item]\n",
    "\n",
    "        encoding = self.tokenizer.encode_plus(\n",
    "            tweet,\n",
    "            add_special_tokens=True,\n",
    "            max_length=self.max_len,\n",
    "            return_token_type_ids=False,\n",
    "            padding='max_length',\n",
    "            truncation=True,\n",
    "            return_attention_mask=True,\n",
    "            return_tensors='pt',\n",
    "        )\n",
    "\n",
    "        input_ids = encoding['input_ids'].view(-1)\n",
    "        attention_mask = encoding['attention_mask'].view(-1)\n",
    "\n",
    "        return {\n",
    "            'tweet_text': tweet,\n",
    "            'input_ids': input_ids,\n",
    "            'attention_mask': attention_mask,\n",
    "            'labels': torch.tensor(label, dtype=torch.long)\n",
    "        }\n",
    "\n",
    "# Load pre-trained model and tokenizer\n",
    "model = DistilBertForSequenceClassification.from_pretrained('distilbert-base-uncased')\n",
    "tokenizer = DistilBertTokenizer.from_pretrained('distilbert-base-uncased')\n"
   ]
  },
  {
   "cell_type": "code",
   "execution_count": 34,
   "id": "b05364c9",
   "metadata": {},
   "outputs": [],
   "source": [
    "\n",
    "# Specify the device\n",
    "device = torch.device(\"mps\")\n",
    "\n",
    "# Move the model to the device\n",
    "model = model.to(device)\n"
   ]
  },
  {
   "cell_type": "code",
   "execution_count": 35,
   "id": "30b895ed",
   "metadata": {},
   "outputs": [
    {
     "name": "stderr",
     "output_type": "stream",
     "text": [
      "/Users/daniel.diaz/Documents/GitHub/CM3070_FP_Repo/.venv/lib/python3.9/site-packages/transformers/optimization.py:591: FutureWarning: This implementation of AdamW is deprecated and will be removed in a future version. Use the PyTorch implementation torch.optim.AdamW instead, or set `no_deprecation_warning=True` to disable this warning\n",
      "  warnings.warn(\n"
     ]
    }
   ],
   "source": [
    "\n",
    "# Preprocess the tweets\n",
    "def preprocess(tweet):\n",
    "    return tokenizer.encode_plus(\n",
    "        tweet,\n",
    "        add_special_tokens=True,\n",
    "        max_length=256,  # Token length size set to 256\n",
    "        padding='max_length',\n",
    "        truncation=True,\n",
    "        return_attention_mask=True,\n",
    "        return_tensors='pt',\n",
    "    )\n",
    "\n",
    "# Apply preprocessing to the entire dataset\n",
    "X = [preprocess(tweet) for tweet in df['tweet']]\n",
    "y = df['BinaryNumLabel'].tolist()\n",
    "\n",
    "# Split the data into training+validation and testing sets\n",
    "X_temp, X_test, y_temp, y_test = train_test_split(X, y, test_size=0.2, random_state=42)\n",
    "\n",
    "# Further split the training+validation set into separate training and validation sets\n",
    "X_train, X_val, y_train, y_val = train_test_split(X_temp, y_temp, test_size=0.25, random_state=42)  # 0.25 x 0.8 = 0.2\n",
    "\n",
    "# Create the TweetDataset\n",
    "train_dataset = TweetDataset(\n",
    "    tweets=X_train,\n",
    "    labels=y_train,\n",
    "    tokenizer=tokenizer,\n",
    "    max_len=256  # Token length size set to 256\n",
    ")\n",
    "\n",
    "val_dataset = TweetDataset(\n",
    "    tweets=X_val,\n",
    "    labels=y_val,\n",
    "    tokenizer=tokenizer,\n",
    "    max_len=256  # Token length size set to 256\n",
    ")\n",
    "\n",
    "test_dataset = TweetDataset(\n",
    "    tweets=X_test,\n",
    "    labels=y_test,\n",
    "    tokenizer=tokenizer,\n",
    "    max_len=256  # Token length size set to 256\n",
    ")\n",
    "\n",
    "# Create DataLoaders for training, validation, and testing sets\n",
    "train_data = DataLoader(train_dataset, batch_size=32)  # Batch size set to 32\n",
    "val_data = DataLoader(val_dataset, batch_size=32)  # Batch size set to 32\n",
    "test_data = DataLoader(test_dataset, batch_size=32)  # Batch size set to 32\n",
    "\n",
    "# Specify the optimizer\n",
    "optimizer = AdamW(model.parameters(), lr=1e-5)\n",
    "\n",
    "epochs = 10  # or any other number depending on how it goes\n"
   ]
  },
  {
   "cell_type": "code",
   "execution_count": 36,
   "id": "26e3c5ab",
   "metadata": {},
   "outputs": [],
   "source": [
    "\n",
    "# Define the early stopping criteria\n",
    "patience = 3  # number of epochs to wait for improvement before stopping\n",
    "best_loss = None\n",
    "no_improve_count = 0\n",
    "\n",
    "# Initialize a list to hold the validation losses\n",
    "val_losses = []\n"
   ]
  },
  {
   "cell_type": "code",
   "execution_count": 37,
   "id": "30de5e7f",
   "metadata": {},
   "outputs": [
    {
     "name": "stderr",
     "output_type": "stream",
     "text": [
      "/var/folders/y3/skqrkws14bs48tkyfrn2wnp80000gn/T/ipykernel_29795/604678406.py:34: DeprecationWarning: an integer is required (got type float).  Implicit conversion to integers using __int__ is deprecated, and may be removed in a future version of Python.\n",
      "  'labels': torch.tensor(label, dtype=torch.long)\n"
     ]
    },
    {
     "name": "stdout",
     "output_type": "stream",
     "text": [
      "Stopping training after 4 epochs due to no improvement.\n"
     ]
    },
    {
     "data": {
      "image/png": "[encoded data removed]",
      "text/plain": [
       "<Figure size 640x480 with 1 Axes>"
      ]
     },
     "metadata": {},
     "output_type": "display_data"
    }
   ],
   "source": [
    "\n",
    "# Train the model\n",
    "for epoch in range(epochs):\n",
    "    for batch in train_data:\n",
    "        optimizer.zero_grad()\n",
    "        input_ids = batch['input_ids'].squeeze().to(device)\n",
    "        attention_mask = batch['attention_mask'].squeeze().to(device)\n",
    "        labels = batch['labels'].to(device)\n",
    "        outputs = model(input_ids, attention_mask=attention_mask, labels=labels)\n",
    "        loss = outputs.loss\n",
    "        loss.backward()\n",
    "        optimizer.step()\n",
    "\n",
    "    # Evaluate the model on the validation set\n",
    "    val_loss = 0\n",
    "    for batch in val_data:  # use val_data instead of test_data\n",
    "        input_ids = batch['input_ids'].squeeze().to(device)\n",
    "        attention_mask = batch['attention_mask'].squeeze().to(device)\n",
    "        labels = batch['labels'].to(device)\n",
    "        outputs = model(input_ids, attention_mask=attention_mask, labels=labels)\n",
    "        val_loss += outputs.loss.item()\n",
    "\n",
    "    # Add the validation loss for this epoch to the list\n",
    "    val_losses.append(val_loss)\n",
    "\n",
    "    # Check for improvement\n",
    "    if best_loss is None or val_loss < best_loss:\n",
    "        best_loss = val_loss\n",
    "        no_improve_count = 0\n",
    "        # Save the model\n",
    "        model_name = '_distilbert-base-uncased_'\n",
    "        dataset_name = '_TruthSeeker2023_'\n",
    "        model_path = f\"_model_epoch{epoch}_valLoss{val_loss:.2f}_batchSize{train_data.batch_size}.pth\"\n",
    "        torch.save(model.state_dict(), dataset_name + model_name + model_path)\n",
    "    else:\n",
    "        no_improve_count += 1\n",
    "\n",
    "    # Stop training if there's no improvement for 'patience' epochs\n",
    "    if no_improve_count >= patience:\n",
    "        print(f\"Stopping training after {epoch} epochs due to no improvement.\")\n",
    "        break\n",
    "\n",
    "# Plot the validation loss over each epoch\n",
    "plt.plot(val_losses)\n",
    "plt.xlabel('Epoch')\n",
    "plt.ylabel('Validation Loss')\n",
    "plt.title('Validation Loss Over Time')\n",
    "plt.show()\n"
   ]
  },
  {
   "cell_type": "code",
   "execution_count": 38,
   "id": "f9043892",
   "metadata": {},
   "outputs": [
    {
     "name": "stderr",
     "output_type": "stream",
     "text": [
      "/var/folders/y3/skqrkws14bs48tkyfrn2wnp80000gn/T/ipykernel_29795/604678406.py:34: DeprecationWarning: an integer is required (got type float).  Implicit conversion to integers using __int__ is deprecated, and may be removed in a future version of Python.\n",
      "  'labels': torch.tensor(label, dtype=torch.long)\n"
     ]
    },
    {
     "name": "stdout",
     "output_type": "stream",
     "text": [
      "Accuracy: 0.9262511761279627\n",
      "Precision: 0.9262486476650363\n",
      "Recall: 0.9262511761279627\n",
      "F1 Score: 0.9262495470536097\n"
     ]
    }
   ],
   "source": [
    "\n",
    "# Model evaluation\n",
    "from sklearn.metrics import accuracy_score, precision_score, recall_score, f1_score\n",
    "\n",
    "# Get the predictions for the test set\n",
    "y_pred = []\n",
    "for batch in test_data:\n",
    "    input_ids = batch['input_ids'].squeeze().to(device)\n",
    "    attention_mask = batch['attention_mask'].squeeze().to(device)\n",
    "    outputs = model(input_ids, attention_mask=attention_mask)\n",
    "    y_pred.extend(torch.argmax(outputs.logits, dim=1).tolist())\n",
    "\n",
    "# Calculate the metrics\n",
    "accuracy = accuracy_score(y_test, y_pred)\n",
    "precision = precision_score(y_test, y_pred, average='weighted')\n",
    "recall = recall_score(y_test, y_pred, average='weighted')\n",
    "f1 = f1_score(y_test, y_pred, average='weighted')\n",
    "\n",
    "print(f'Accuracy: {accuracy}')\n",
    "print(f'Precision: {precision}')\n",
    "print(f'Recall: {recall}')\n",
    "print(f'F1 Score: {f1}')\n"
   ]
  },
  {
   "cell_type": "code",
   "execution_count": 39,
   "id": "340741a1",
   "metadata": {},
   "outputs": [
    {
     "data": {
      "image/png": "[encoded data removed]",
      "text/plain": [
       "<Figure size 1000x700 with 2 Axes>"
      ]
     },
     "metadata": {},
     "output_type": "display_data"
    }
   ],
   "source": [
    "\n",
    "# Plot the confusion matrix as a heatmap\n",
    "cm = confusion_matrix(y_test, y_pred)\n",
    "plt.figure(figsize=(10,7))\n",
    "sns.heatmap(cm, annot=True, fmt='d')\n",
    "plt.title('Confusion Matrix')\n",
    "plt.xlabel('Predicted')\n",
    "plt.ylabel('Actual')\n",
    "plt.show()\n"
   ]
  },
  {
   "cell_type": "code",
   "execution_count": 40,
   "id": "7dfc8a4e",
   "metadata": {},
   "outputs": [],
   "source": [
    "\n",
    "# Save the model\n",
    "model_name = '_distilbert-base-uncased_'\n",
    "dataset_name = '_TruthSeeker2023_'\n",
    "model_path = f\"_model_epoch{epoch}_valLoss{val_loss:.2f}_batchSize{train_data.batch_size}.pth\"\n",
    "torch.save(model.state_dict(), dataset_name + model_name + model_path)\n"
   ]
  },
  {
   "cell_type": "markdown",
   "id": "aff9b2ba",
   "metadata": {},
   "source": []
  },
  {
   "cell_type": "code",
   "execution_count": 100,
   "id": "bccc1462",
   "metadata": {},
   "outputs": [],
   "source": [
    "from transformers import AutoTokenizer, AutoModelForSequenceClassification\n",
    "from torch.utils.data import DataLoader, Dataset\n",
    "from transformers import AdamW\n",
    "import torch\n"
   ]
  },
  {
   "cell_type": "code",
   "execution_count": 101,
   "id": "1583646a",
   "metadata": {},
   "outputs": [],
   "source": [
    "\n",
    "import matplotlib.pyplot as plt\n",
    "import seaborn as sns\n",
    "from sklearn.metrics import classification_report, confusion_matrix\n",
    "from sklearn.model_selection import train_test_split\n"
   ]
  },
  {
   "cell_type": "code",
   "execution_count": 102,
   "id": "d8063526",
   "metadata": {},
   "outputs": [
    {
     "name": "stderr",
     "output_type": "stream",
     "text": [
      "Some weights of RobertaForSequenceClassification were not initialized from the model checkpoint at vinai/bertweet-base and are newly initialized: ['classifier.dense.bias', 'classifier.dense.weight', 'classifier.out_proj.bias', 'classifier.out_proj.weight']\n",
      "You should probably TRAIN this model on a down-stream task to be able to use it for predictions and inference.\n"
     ]
    }
   ],
   "source": [
    "\n",
    "# Define the TweetDataset class\n",
    "class TweetDataset(Dataset):\n",
    "    def __init__(self, tweets, labels, tokenizer, max_len):\n",
    "        self.tweets = tweets\n",
    "        self.labels = labels\n",
    "        self.tokenizer = tokenizer\n",
    "        self.max_len = max_len\n",
    "\n",
    "    def __len__(self):\n",
    "        return len(self.tweets)\n",
    "\n",
    "    def __getitem__(self, item):\n",
    "        tweet = str(self.tweets[item])\n",
    "        label = self.labels[item]\n",
    "\n",
    "        encoding = self.tokenizer.encode_plus(\n",
    "            tweet,\n",
    "            add_special_tokens=True,\n",
    "            max_length=self.max_len,\n",
    "            return_token_type_ids=False,\n",
    "            padding='max_length',\n",
    "            truncation=True,\n",
    "            return_attention_mask=True,\n",
    "            return_tensors='pt',\n",
    "        )\n",
    "\n",
    "        input_ids = encoding['input_ids'].view(-1)\n",
    "        attention_mask = encoding['attention_mask'].view(-1)\n",
    "\n",
    "        return {\n",
    "            'tweet_text': tweet,\n",
    "            'input_ids': input_ids,\n",
    "            'attention_mask': attention_mask,\n",
    "            'labels': torch.tensor(label, dtype=torch.long)\n",
    "        }\n",
    "\n",
    "# Load pre-trained model and tokenizer\n",
    "model = AutoModelForSequenceClassification.from_pretrained('vinai/bertweet-base')\n",
    "tokenizer = AutoTokenizer.from_pretrained('vinai/bertweet-base', use_fast=False)\n"
   ]
  },
  {
   "cell_type": "code",
   "execution_count": 103,
   "id": "651ff4c8",
   "metadata": {},
   "outputs": [],
   "source": [
    "\n",
    "# Specify the device\n",
    "device = torch.device(\"mps\")\n",
    "\n",
    "# Move the model to the device\n",
    "model = model.to(device)\n"
   ]
  },
  {
   "cell_type": "code",
   "execution_count": 104,
   "id": "7ed1a23f",
   "metadata": {},
   "outputs": [],
   "source": [
    "\n",
    "# Preprocess the tweets\n",
    "def preprocess(tweet):\n",
    "    return tokenizer.encode_plus(\n",
    "        tweet,\n",
    "        add_special_tokens=True,\n",
    "        max_length=130,  # Token length size set to 130 by design\n",
    "        padding='max_length',\n",
    "        truncation=True,\n",
    "        return_attention_mask=True,\n",
    "        return_tensors='pt',\n",
    "    )\n",
    "\n",
    "# Apply preprocessing to the entire dataset\n",
    "X = [preprocess(tweet) for tweet in df['tweet']]\n",
    "y = df['BinaryNumLabel'].tolist()\n",
    "\n",
    "# Split the data into training+validation and testing sets\n",
    "X_temp, X_test, y_temp, y_test = train_test_split(X, y, test_size=0.2, random_state=42)\n",
    "\n",
    "# Further split the training+validation set into separate training and validation sets\n",
    "X_train, X_val, y_train, y_val = train_test_split(X_temp, y_temp, test_size=0.25, random_state=42)  # 0.25 x 0.8 = 0.2\n",
    "\n",
    "# Create the TweetDataset\n",
    "train_dataset = TweetDataset(\n",
    "    tweets=X_train,\n",
    "    labels=y_train,\n",
    "    tokenizer=tokenizer,\n",
    "    max_len=130  #  # Token length size set to 130 by design\n",
    ")\n",
    "\n",
    "val_dataset = TweetDataset(\n",
    "    tweets=X_val,\n",
    "    labels=y_val,\n",
    "    tokenizer=tokenizer,\n",
    "    max_len=130  #  # Token length size set to 130 by design\n",
    ")\n",
    "\n",
    "test_dataset = TweetDataset(\n",
    "    tweets=X_test,\n",
    "    labels=y_test,\n",
    "    tokenizer=tokenizer,\n",
    "    max_len=130  #  # Token length size set to 130 by design\n",
    ")\n",
    "\n",
    "# Create DataLoaders for training, validation, and testing sets\n",
    "train_data = DataLoader(train_dataset, batch_size=2)  # Batch size set to 2\n",
    "val_data = DataLoader(val_dataset, batch_size=2)  # Batch size set to 2\n",
    "test_data = DataLoader(test_dataset, batch_size=2)  # Batch size set to 2\n",
    "\n",
    "# Specify the optimizer\n",
    "optimizer = AdamW(model.parameters(), lr=1e-5)\n",
    "\n",
    "epochs = 10  # or any other number depending on how it goes\n"
   ]
  },
  {
   "cell_type": "code",
   "execution_count": 105,
   "id": "3f3bc2b6",
   "metadata": {},
   "outputs": [],
   "source": [
    "\n",
    "# Define the early stopping criteria\n",
    "patience = 3  # number of epochs to wait for improvement before stopping\n",
    "best_loss = None\n",
    "no_improve_count = 0\n",
    "\n",
    "# Initialize a list to hold the validation losses\n",
    "val_losses = []\n"
   ]
  },
  {
   "cell_type": "code",
   "execution_count": 106,
   "id": "7843ee13",
   "metadata": {},
   "outputs": [
    {
     "name": "stderr",
     "output_type": "stream",
     "text": [
      "/var/folders/y3/skqrkws14bs48tkyfrn2wnp80000gn/T/ipykernel_29795/3364642507.py:34: DeprecationWarning: an integer is required (got type float).  Implicit conversion to integers using __int__ is deprecated, and may be removed in a future version of Python.\n",
      "  'labels': torch.tensor(label, dtype=torch.long)\n"
     ]
    }
   ],
   "source": [
    "\n",
    "# Train the model\n",
    "for epoch in range(epochs):\n",
    "    for batch in train_data:\n",
    "        optimizer.zero_grad()\n",
    "        input_ids = batch['input_ids'].squeeze().to(device)\n",
    "        attention_mask = batch['attention_mask'].squeeze().to(device)\n",
    "        labels = batch['labels'].to(device)\n",
    "        outputs = model(input_ids, attention_mask=attention_mask, labels=labels)\n",
    "        loss = outputs.loss\n",
    "        loss.backward()\n",
    "        optimizer.step()\n",
    "\n",
    "    # Evaluate the model on the validation set\n",
    "    val_loss = 0\n",
    "    for batch in val_data:  # use val_data instead of test_data\n",
    "        input_ids = batch['input_ids'].squeeze().to(device)\n",
    "        attention_mask = batch['attention_mask'].squeeze().to(device)\n",
    "        labels = batch['labels'].to(device)\n",
    "        outputs = model(input_ids, attention_mask=attention_mask, labels=labels)\n",
    "        val_loss += outputs.loss.item()\n",
    "\n",
    "    # Add the validation loss for this epoch to the list\n",
    "    val_losses.append(val_loss)\n",
    "\n",
    "    # Check for improvement\n",
    "    if best_loss is None or val_loss < best_loss:\n",
    "        best_loss = val_loss\n",
    "        no_improve_count = 0\n",
    "        # Save the model\n",
    "        model_name = '_bertweet-base_'\n",
    "        dataset_name = '_TruthSeeker2023_'\n",
    "        model_path = f\"_model_epoch{epoch}_valLoss{val_loss:.2f}_batchSize{train_data.batch_size}.pth\"\n",
    "        torch.save(model.state_dict(), dataset_name + model_name + model_path)\n",
    "    else:\n",
    "        no_improve_count += 1\n",
    "\n",
    "    # Stop training if there's no improvement for 'patience' epochs\n",
    "    if no_improve_count >= patience:\n",
    "        print(f\"Stopping training after {epoch} epochs due to no improvement.\")\n",
    "        break\n",
    "\n",
    "# Plot the validation loss over each epoch\n",
    "plt.plot(val_losses)\n",
    "plt.xlabel('Epoch')\n",
    "plt.ylabel('Validation Loss')\n",
    "plt.title('Validation Loss Over Time')\n",
    "plt.show()\n"
   ]
  },
  {
   "cell_type": "code",
   "execution_count": null,
   "id": "cc121bfb",
   "metadata": {},
   "outputs": [
    {
     "name": "stderr",
     "output_type": "stream",
     "text": [
      "/var/folders/y3/skqrkws14bs48tkyfrn2wnp80000gn/T/ipykernel_29795/2140790256.py:34: DeprecationWarning: an integer is required (got type float).  Implicit conversion to integers using __int__ is deprecated, and may be removed in a future version of Python.\n",
      "  'labels': torch.tensor(label, dtype=torch.long)\n"
     ]
    },
    {
     "name": "stdout",
     "output_type": "stream",
     "text": [
      "Accuracy: 0.8440342309243246\n",
      "Precision: 0.846293134635518\n",
      "Recall: 0.8440342309243246\n",
      "F1 Score: 0.8434858304556929\n"
     ]
    }
   ],
   "source": [
    "\n",
    "# Model evaluation\n",
    "from sklearn.metrics import accuracy_score, precision_score, recall_score, f1_score\n",
    "\n",
    "# Get the predictions for the test set\n",
    "y_pred = []\n",
    "for batch in test_data:\n",
    "    input_ids = batch['input_ids'].squeeze().to(device)\n",
    "    attention_mask = batch['attention_mask'].squeeze().to(device)\n",
    "    outputs = model(input_ids, attention_mask=attention_mask)\n",
    "    y_pred.extend(torch.argmax(outputs.logits, dim=1).tolist())\n",
    "\n",
    "# Calculate the metrics\n",
    "accuracy = accuracy_score(y_test, y_pred)\n",
    "precision = precision_score(y_test, y_pred, average='weighted')\n",
    "recall = recall_score(y_test, y_pred, average='weighted')\n",
    "f1 = f1_score(y_test, y_pred, average='weighted')\n",
    "\n",
    "print(f'Accuracy: {accuracy}')\n",
    "print(f'Precision: {precision}')\n",
    "print(f'Recall: {recall}')\n",
    "print(f'F1 Score: {f1}')\n"
   ]
  },
  {
   "cell_type": "code",
   "execution_count": null,
   "id": "7033b95e",
   "metadata": {},
   "outputs": [
    {
     "data": {
      "image/png": "[encoded data removed]",
      "text/plain": [
       "<Figure size 1000x700 with 2 Axes>"
      ]
     },
     "metadata": {},
     "output_type": "display_data"
    }
   ],
   "source": [
    "\n",
    "# Plot the confusion matrix as a heatmap\n",
    "cm = confusion_matrix(y_test, y_pred)\n",
    "plt.figure(figsize=(10,7))\n",
    "sns.heatmap(cm, annot=True, fmt='d')\n",
    "plt.title('Confusion Matrix')\n",
    "plt.xlabel('Predicted')\n",
    "plt.ylabel('Actual')\n",
    "plt.show()\n"
   ]
  },
  {
   "cell_type": "code",
   "execution_count": null,
   "id": "aeb6d13c",
   "metadata": {},
   "outputs": [],
   "source": [
    "\n",
    "# Save the model\n",
    "model_name = '_bertweet-base_'\n",
    "dataset_name = '_TruthSeeker2023_'\n",
    "model_path = f\"_model_epoch{epoch}_valLoss{val_loss:.2f}_batchSize{train_data.batch_size}.pth\"\n",
    "torch.save(model.state_dict(), dataset_name + model_name + model_path)\n"
   ]
  }
 ],
 "metadata": {
  "kernelspec": {
   "display_name": ".venv",
   "language": "python",
   "name": "python3"
  },
  "language_info": {
   "codemirror_mode": {
    "name": "ipython",
    "version": 3
   },
   "file_extension": ".py",
   "mimetype": "text/x-python",
   "name": "python",
   "nbconvert_exporter": "python",
   "pygments_lexer": "ipython3",
   "version": "3.9.6"
  }
 },
 "nbformat": 4,
 "nbformat_minor": 5
}
